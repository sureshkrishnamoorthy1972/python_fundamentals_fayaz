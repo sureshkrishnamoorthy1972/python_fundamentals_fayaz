{
 "cells": [
  {
   "cell_type": "markdown",
   "metadata": {},
   "source": [
    "# SPECIAL METHODS OF CLASS"
   ]
  },
  {
   "cell_type": "markdown",
   "metadata": {},
   "source": [
    "Introduction to Constructor\n",
    "\n",
    "Initializer/ automatically invokes the attributes inside it."
   ]
  },
  {
   "cell_type": "code",
   "execution_count": 18,
   "metadata": {},
   "outputs": [],
   "source": [
    "class Employee:  \n",
    "    def __init__(self,name,id):  \n",
    "        self.id = id;  \n",
    "        self.name = name;  \n",
    "    def display (self):  \n",
    "        print(\"ID: %d \\nName: %s\"%(self.id,self.name))  \n",
    "emp1 = Employee(\"John\",101)  \n",
    "emp2 = Employee(\"David\",102)  "
   ]
  },
  {
   "cell_type": "code",
   "execution_count": 19,
   "metadata": {},
   "outputs": [
    {
     "name": "stdout",
     "output_type": "stream",
     "text": [
      "ID: 101 \n",
      "Name: John\n",
      "ID: 102 \n",
      "Name: David\n"
     ]
    }
   ],
   "source": [
    "#accessing display() method to print employee 1 information  \n",
    "   \n",
    "emp1.display();   \n",
    "  \n",
    "#accessing display() method to print employee 2 information  \n",
    "emp2.display();   "
   ]
  },
  {
   "cell_type": "code",
   "execution_count": 20,
   "metadata": {},
   "outputs": [
    {
     "name": "stdout",
     "output_type": "stream",
     "text": [
      "The number of students: 3\n"
     ]
    }
   ],
   "source": [
    "class Student:  \n",
    "    count = 0  \n",
    "    def __init__(self):  \n",
    "        Student.count = Student.count + 1  \n",
    "s1=Student()  \n",
    "s2=Student()  \n",
    "s3=Student()  \n",
    "print(\"The number of students:\",Student.count)  "
   ]
  },
  {
   "cell_type": "code",
   "execution_count": 21,
   "metadata": {},
   "outputs": [
    {
     "name": "stdout",
     "output_type": "stream",
     "text": [
      "This is non parametrized constructor\n",
      "Hello John\n"
     ]
    }
   ],
   "source": [
    "class Student:    \n",
    "    # Constructor - non parameterized    \n",
    "    def __init__(self):    \n",
    "        print(\"This is non parametrized constructor\")    \n",
    "    def show(self,name):    \n",
    "        print(\"Hello\",name)    \n",
    "student = Student()    \n",
    "student.show(\"John\")    "
   ]
  },
  {
   "cell_type": "code",
   "execution_count": 22,
   "metadata": {},
   "outputs": [
    {
     "name": "stdout",
     "output_type": "stream",
     "text": [
      "This is parametrized constructor\n",
      "Hello John\n"
     ]
    }
   ],
   "source": [
    "class Student:    \n",
    "    # Constructor - parameterized    \n",
    "    def __init__(self, name):    \n",
    "        print(\"This is parametrized constructor\")    \n",
    "        self.name = name    \n",
    "    def show(self):    \n",
    "        print(\"Hello\",self.name)    \n",
    "student = Student(\"John\")    \n",
    "student.show()  "
   ]
  }
 ],
 "metadata": {
  "kernelspec": {
   "display_name": "Python 3",
   "language": "python",
   "name": "python3"
  },
  "language_info": {
   "codemirror_mode": {
    "name": "ipython",
    "version": 3
   },
   "file_extension": ".py",
   "mimetype": "text/x-python",
   "name": "python",
   "nbconvert_exporter": "python",
   "pygments_lexer": "ipython3",
   "version": "3.7.3"
  }
 },
 "nbformat": 4,
 "nbformat_minor": 2
}
